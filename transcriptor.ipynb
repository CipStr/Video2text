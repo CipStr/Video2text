{
  "cells": [
    {
      "cell_type": "markdown",
      "metadata": {
        "id": "Puz6JLz_GwXD"
      },
      "source": [
        "## This is a simple Video to Text Converter using Python\n",
        "### This code uses the SpeechRecognition library to convert the audio from the video to text.\n",
        "### The video is first converted to audio using the moviepy library and then the audio is converted to text using the SpeechRecognition library."
      ]
    },
    {
      "cell_type": "markdown",
      "metadata": {
        "id": "wJnwp2taGwXE"
      },
      "source": [
        "### The code is divided into the following steps:\n",
        "\n",
        "1. Importing the necessary libraries\n",
        "2. Uploading the video\n",
        "3. Extracting the audio from the video\n",
        "4. Converting the audio to text\n",
        "5. Displaying the text\n",
        "6. Saving the text to a file\n",
        "7. ???\n",
        "8. Profit\n"
      ]
    },
    {
      "cell_type": "markdown",
      "metadata": {
        "id": "AVJN25UIGwXE"
      },
      "source": [
        "## Step 1: Importing the necessary libraries"
      ]
    },
    {
      "cell_type": "code",
      "execution_count": 1,
      "metadata": {
        "id": "EyFo2JmqGwXF"
      },
      "outputs": [],
      "source": [
        "# capture the output to not show it\n",
        "%%capture\n",
        "!pip install ipython\n",
        "!pip install SpeechRecognition\n",
        "!pip install moviepy\n",
        "!pip install pydub"
      ]
    },
    {
      "cell_type": "code",
      "execution_count": 3,
      "metadata": {
        "colab": {
          "base_uri": "https://localhost:8080/"
        },
        "id": "9GQyHIAgGwXG",
        "outputId": "78df179f-dd57-4ad2-8d26-6c7ede20118c"
      },
      "outputs": [
        {
          "output_type": "stream",
          "name": "stderr",
          "text": [
            "WARNING:py.warnings:/usr/local/lib/python3.10/dist-packages/moviepy/video/io/sliders.py:61: SyntaxWarning: \"is\" with a literal. Did you mean \"==\"?\n",
            "  if event.key is 'enter':\n",
            "\n"
          ]
        }
      ],
      "source": [
        "import speech_recognition as sr\n",
        "import os\n",
        "import sys\n",
        "import webbrowser\n",
        "# Import everything needed from moviepy\n",
        "from moviepy.editor import *\n",
        "import datetime\n",
        "import os\n",
        "import datetime\n",
        "from pydub import AudioSegment"
      ]
    },
    {
      "cell_type": "markdown",
      "metadata": {
        "id": "SgSysWgkGwXG"
      },
      "source": [
        "## Step 2: Uploading the video"
      ]
    },
    {
      "cell_type": "code",
      "execution_count": 4,
      "metadata": {
        "id": "nc2RPoXlGwXG"
      },
      "outputs": [],
      "source": [
        "def upload_video(file_path):\n",
        "    \"\"\"\n",
        "    Upload and validate a video file\n",
        "\n",
        "    Args:\n",
        "        file_path (str): Path to the video file\n",
        "\n",
        "    Returns:\n",
        "        str: Path to the validated video file\n",
        "    \"\"\"\n",
        "    try:\n",
        "        # Check if file exists\n",
        "        if not os.path.exists(file_path):\n",
        "            raise FileNotFoundError(\"Video file not found\")\n",
        "\n",
        "        # Get file extension\n",
        "        _, extension = os.path.splitext(file_path)\n",
        "        valid_extensions = ['.mp4', '.avi', '.mov', '.mkv']\n",
        "\n",
        "        # Validate file format\n",
        "        if extension.lower() not in valid_extensions:\n",
        "            raise ValueError(f\"Unsupported video format. Please use: {', '.join(valid_extensions)}\")\n",
        "\n",
        "        # Add basic file size check (e.g., max 2GB)\n",
        "        max_size = 2 * 1024 * 1024 * 1024  # 2GB in bytes\n",
        "        if os.path.getsize(file_path) > max_size:\n",
        "            raise ValueError(\"File size exceeds maximum limit of 2GB\")\n",
        "\n",
        "        return file_path\n",
        "\n",
        "    except Exception as e:\n",
        "        print(f\"Error uploading video: {str(e)}\")\n",
        "        return None\n"
      ]
    },
    {
      "cell_type": "code",
      "execution_count": 5,
      "metadata": {
        "id": "cumipW9JGwXG"
      },
      "outputs": [],
      "source": [
        "# Example usage\n",
        "video_path = \"videoplayback.mp4\"\n",
        "uploaded_video = upload_video(video_path)"
      ]
    },
    {
      "cell_type": "markdown",
      "metadata": {
        "id": "KBSFadSEGwXG"
      },
      "source": [
        "## Step 3: Extracting the audio from the video"
      ]
    },
    {
      "cell_type": "code",
      "execution_count": 6,
      "metadata": {
        "id": "1gidBzQ8GwXH"
      },
      "outputs": [],
      "source": [
        "def extract_audio(video_path, output_path=None):\n",
        "    \"\"\"\n",
        "    Extract audio from a video file\n",
        "\n",
        "    Args:\n",
        "        video_path (str): Path to the input video file\n",
        "        output_path (str, optional): Path for the output audio file.\n",
        "                                   If not provided, uses the video filename with .mp3 extension\n",
        "\n",
        "    Returns:\n",
        "        str: Path to the extracted audio file\n",
        "    \"\"\"\n",
        "    try:\n",
        "        # Load the video file\n",
        "        video = VideoFileClip(video_path)\n",
        "\n",
        "        # If output path not specified, create one from video filename\n",
        "        if output_path is None:\n",
        "            output_path = os.path.splitext(video_path)[0] + '.mp3'\n",
        "\n",
        "        # Extract the audio\n",
        "        audio = video.audio\n",
        "        audio.write_audiofile(output_path)\n",
        "\n",
        "        # Close the video file\n",
        "        video.close()\n",
        "\n",
        "        return output_path\n",
        "\n",
        "    except Exception as e:\n",
        "        raise Exception(f\"Error extracting audio: {str(e)}\")"
      ]
    },
    {
      "cell_type": "code",
      "execution_count": 7,
      "metadata": {
        "colab": {
          "base_uri": "https://localhost:8080/"
        },
        "id": "iNEwhBl4GwXH",
        "outputId": "190c9b87-10a1-4054-f443-46fb936bfbc5"
      },
      "outputs": [
        {
          "output_type": "stream",
          "name": "stdout",
          "text": [
            "MoviePy - Writing audio in videoplayback.mp3\n"
          ]
        },
        {
          "output_type": "stream",
          "name": "stderr",
          "text": [
            "                                                                     "
          ]
        },
        {
          "output_type": "stream",
          "name": "stdout",
          "text": [
            "MoviePy - Done.\n"
          ]
        },
        {
          "output_type": "stream",
          "name": "stderr",
          "text": [
            "\r"
          ]
        }
      ],
      "source": [
        "audio_file = extract_audio(uploaded_video)"
      ]
    },
    {
      "cell_type": "markdown",
      "metadata": {
        "id": "lyviEyRKGwXH"
      },
      "source": [
        "## Step 4: Converting the audio to text"
      ]
    },
    {
      "cell_type": "code",
      "execution_count": 8,
      "metadata": {
        "id": "URYADXcbGwXH"
      },
      "outputs": [],
      "source": [
        "recognizer = sr.Recognizer()\n",
        "\n",
        "def ensure_wav_format(audio_path):\n",
        "    \"\"\"\n",
        "    Convert audio file to PCM WAV format if necessary.\n",
        "    \"\"\"\n",
        "    if not audio_path.lower().endswith(\".wav\"):\n",
        "        audio = AudioSegment.from_file(audio_path)\n",
        "        output_path = \"converted_audio.wav\"\n",
        "        audio.export(output_path, format=\"wav\")\n",
        "        return output_path\n",
        "    return audio_path\n",
        "\n",
        "def transcribe_audio(audio_path):\n",
        "    \"\"\"\n",
        "    Transcribe speech from an audio file.\n",
        "    \"\"\"\n",
        "    try:\n",
        "        # Ensure the file is in WAV format\n",
        "        wav_path = ensure_wav_format(audio_path)\n",
        "\n",
        "        # Load and process the audio file\n",
        "        with sr.AudioFile(wav_path) as source:\n",
        "            audio_data = recognizer.record(source)\n",
        "\n",
        "        # Transcribe audio\n",
        "        text = recognizer.recognize_google(audio_data)\n",
        "        return text\n",
        "\n",
        "    except Exception as e:\n",
        "        raise Exception(f\"Error transcribing audio: {str(e)}\")"
      ]
    },
    {
      "cell_type": "code",
      "execution_count": 9,
      "metadata": {
        "colab": {
          "base_uri": "https://localhost:8080/"
        },
        "id": "hX67cY1iGwXH",
        "outputId": "16f5d6ac-7e7a-4724-e13e-9dc26cdd588b"
      },
      "outputs": [
        {
          "output_type": "stream",
          "name": "stdout",
          "text": [
            "this is the Omniverse gamer doing a 1-minute review of Baldur's Gate 3 a turn-based RPG I want to start by saying I do like this game but it's not as perfect as some might say let's start with the good the customization character design and choices you make or what make the game great it has a ton of variety when it comes to how you want to play and your choice is even affect the outcome of the story voice acting is also done really well now on to the best combat is a big part of Boulders not because it's term based it's just so inconsistent there are way too many enemies and most fights and sometimes the AI will just stand there for no reason and it has a lot of personality and Charmed it's just missing some things that will take it to the next level for me\n"
          ]
        }
      ],
      "source": [
        "# Example usage\n",
        "try:\n",
        "    transcription = transcribe_audio(\"videoplayback.mp3\")\n",
        "    # print(transcription)\n",
        "except Exception as e:\n",
        "    print(e)"
      ]
    },
    {
      "cell_type": "markdown",
      "source": [
        "## Step 5. Display the text"
      ],
      "metadata": {
        "id": "eZ5w35YOIMzJ"
      }
    },
    {
      "cell_type": "code",
      "execution_count": 10,
      "metadata": {
        "colab": {
          "base_uri": "https://localhost:8080/"
        },
        "id": "XQsqO4pUGwXH",
        "outputId": "4d6e723b-3bf1-46b4-cf44-005f0ae7cf01"
      },
      "outputs": [
        {
          "output_type": "stream",
          "name": "stdout",
          "text": [
            "\n",
            "--- Transcription ---\n",
            "\n",
            "this is the Omniverse gamer doing a 1-minute review of Baldur's Gate 3 a turn-based RPG I want to start by saying I do like this game but it's not as perfect as some might say let's start with the good the customization character design and choices you make or what make the game great it has a ton of variety when it comes to how you want to play and your choice is even affect the outcome of the story voice acting is also done really well now on to the best combat is a big part of Boulders not because it's term based it's just so inconsistent there are way too many enemies and most fights and sometimes the AI will just stand there for no reason and it has a lot of personality and Charmed it's just missing some things that will take it to the next level for me\n",
            "\n",
            "--- End of Transcription ---\n",
            "\n"
          ]
        }
      ],
      "source": [
        "# Print the transcript with formatting\n",
        "print(\"\\n--- Transcription ---\\n\")\n",
        "print(transcription)\n",
        "print(\"\\n--- End of Transcription ---\\n\")"
      ]
    },
    {
      "cell_type": "markdown",
      "source": [
        "## Step 6: Saving the text to a file"
      ],
      "metadata": {
        "id": "VyV67XlDIVtR"
      }
    },
    {
      "cell_type": "code",
      "source": [
        "def save_transcript(text, filename=\"transcript.txt\"):\n",
        "    \"\"\"\n",
        "    Saves the transcript to a file.\n",
        "\n",
        "    Args:\n",
        "        text (str): The transcribed text.\n",
        "        filename (str, optional): The name of the file to save to. Defaults to \"transcript.txt\".\n",
        "    \"\"\"\n",
        "    try:\n",
        "        with open(filename, \"w\") as f:\n",
        "            f.write(text)\n",
        "        print(f\"Transcript saved to {filename}\")\n",
        "    except Exception as e:\n",
        "        print(f\"Error saving transcript: {str(e)}\")"
      ],
      "metadata": {
        "id": "tAE1leZPIIob"
      },
      "execution_count": 11,
      "outputs": []
    },
    {
      "cell_type": "code",
      "source": [
        "# Save the transcript to a file\n",
        "save_transcript(transcription)"
      ],
      "metadata": {
        "colab": {
          "base_uri": "https://localhost:8080/"
        },
        "id": "Z2CmIYJrIlqZ",
        "outputId": "ca65d192-0dd2-4f93-9076-978753fde590"
      },
      "execution_count": 12,
      "outputs": [
        {
          "output_type": "stream",
          "name": "stdout",
          "text": [
            "Transcript saved to transcript.txt\n"
          ]
        }
      ]
    },
    {
      "cell_type": "code",
      "source": [],
      "metadata": {
        "id": "M0y1Ta7DIoBp"
      },
      "execution_count": null,
      "outputs": []
    }
  ],
  "metadata": {
    "kernelspec": {
      "display_name": "base",
      "language": "python",
      "name": "python3"
    },
    "language_info": {
      "codemirror_mode": {
        "name": "ipython",
        "version": 3
      },
      "file_extension": ".py",
      "mimetype": "text/x-python",
      "name": "python",
      "nbconvert_exporter": "python",
      "pygments_lexer": "ipython3",
      "version": "3.11.5"
    },
    "colab": {
      "provenance": []
    }
  },
  "nbformat": 4,
  "nbformat_minor": 0
}